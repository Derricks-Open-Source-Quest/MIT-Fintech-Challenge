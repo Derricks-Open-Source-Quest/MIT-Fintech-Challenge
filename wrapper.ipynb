{
 "cells": [
  {
   "cell_type": "code",
   "execution_count": 1,
   "metadata": {},
   "outputs": [],
   "source": [
    "import pandas as pd\n",
    "import numpy as np"
   ]
  },
  {
   "cell_type": "markdown",
   "metadata": {},
   "source": [
    "**read_data_small** is the function to read in the small dataset about 30 MB"
   ]
  },
  {
   "cell_type": "code",
   "execution_count": 2,
   "metadata": {},
   "outputs": [],
   "source": [
    "def read_data_small():\n",
    "    X_train = pd.read_csv(\"data_small/X_train_small.csv\")\n",
    "    X_test = pd.read_csv(\"data_small/X_test_small.csv\")\n",
    "    y_train = np.asarray(pd.read_csv(\"data_small/y_train_small.csv\", header=None)[0])\n",
    "    # y_train_masked = np.asarray(pd.read_csv(\"data_small/y_masked_train_small.csv\", header=None)[0])\n",
    "    return X_train, X_test, y_train"
   ]
  },
  {
   "cell_type": "markdown",
   "metadata": {},
   "source": [
    "**read_data_big** is the function to read in the big dataset about 100 MB"
   ]
  },
  {
   "cell_type": "code",
   "execution_count": 3,
   "metadata": {},
   "outputs": [],
   "source": [
    "def read_data_big():\n",
    "    X_train = pd.read_csv(\"data_big/X_train_big.csv\")\n",
    "    X_test = pd.read_csv(\"data_big/X_test_big.csv\")\n",
    "    y_train = np.asarray(pd.read_csv(\"data_big/y_train_big.csv\", header=None)[0])\n",
    "    # y_train_masked = np.asarray(pd.read_csv(\"data_big/y_masked_train_big.csv\", header=None)[0])\n",
    "    return X_train, X_test, y_train"
   ]
  },
  {
   "cell_type": "markdown",
   "metadata": {},
   "source": [
    "**read_data** is the function to read in the whole dataset about 1.5 G"
   ]
  },
  {
   "cell_type": "code",
   "execution_count": 4,
   "metadata": {},
   "outputs": [],
   "source": [
    "def read_data():\n",
    "    X_train = pd.read_csv(\"data/X_train.csv\")\n",
    "    X_test = pd.read_csv(\"data/X_test.csv\")\n",
    "    y_train = np.asarray(pd.read_csv(\"data/y_train.csv\", header=None)[0])\n",
    "    # y_train_masked = np.asarray(pd.read_csv(\"data/y_masked_train.csv\", header=None)[0])\n",
    "    return X_train, X_test, y_train"
   ]
  },
  {
   "cell_type": "markdown",
   "metadata": {},
   "source": [
    "# Insert Your Code Here"
   ]
  },
  {
   "cell_type": "markdown",
   "metadata": {},
   "source": [
    "**detect_spoofying** is the function for training the classifier and classify the results. \n",
    "\n",
    "Here we provide an simple example."
   ]
  },
  {
   "cell_type": "code",
   "execution_count": 5,
   "metadata": {},
   "outputs": [],
   "source": [
    "### import libraries here ###\n",
    "from sklearn.linear_model import LogisticRegression\n",
    "from sklearn.preprocessing import scale\n",
    "\n",
    "### code classifier here ###\n",
    "def format_data(df):\n",
    "    # append numberical columns\n",
    "    rst = df.loc[:,[\"price\",\"volume\",\"bestBid\",\"bestAsk\",'bestBidVolume',\n",
    "                    'bestAskVolume','lv2Bid', 'lv2BidVolume','lv2Ask', \n",
    "                    'lv2AskVolume', 'lv3Bid', 'lv3BidVolume', 'lv3Ask',\n",
    "                    'lv3AskVolume']]\n",
    "    # encode the binaries\n",
    "    rst[\"isBid\"] = df.isBid*1\n",
    "    rst[\"isBuyer\"] = df.isBuyer*1\n",
    "    rst[\"isAggressor\"] = df.isAggressor*1\n",
    "    rst[\"type\"] = (df.type == \"ORDER\")*1\n",
    "    rst[\"source\"] = (df.source==\"USER\")*1\n",
    "    # parse the order id data\n",
    "    rst[\"orderId\"] = df.orderId.str.split('-').str[-1]\n",
    "    rst[\"tradeId\"] = df.tradeId.str.split('-').str[-1]\n",
    "    rst[\"bidOrderId\"] = df.bidOrderId.str.split('-').str[-1]\n",
    "    rst[\"askOrderId\"] = df.askOrderId.str.split('-').str[-1]\n",
    "    # encode the multiple lable data\n",
    "    tmp_operation = pd.DataFrame(pd.get_dummies(df.operation), columns=df.operation.unique()[:-1])\n",
    "    rst = pd.concat([rst, tmp_operation], axis=1)\n",
    "    tmp_endUserRef = pd.DataFrame(pd.get_dummies(df.endUserRef), columns=df.endUserRef.unique()[:-1])\n",
    "    rst = pd.concat([rst, tmp_endUserRef], axis=1)\n",
    "    return rst\n",
    "\n",
    "def detect_spoofying(X_train, X_test, y_train):\n",
    "    # clean up the data\n",
    "    X_clean = format_data(pd.concat([X_train, X_test]))\n",
    "    X_clean = X_clean.fillna(-1)\n",
    "    X_train_clean = X_clean.iloc[:X_train.shape[0],:]\n",
    "    X_test_clean = X_clean.iloc[X_train.shape[0]:,:]\n",
    "    X_train_clean_scaled = scale(X_train_clean)\n",
    "    X_test_clean_scaled = scale(X_test_clean)\n",
    "\n",
    "    # fit classifier\n",
    "    clf = LogisticRegression(random_state=0, class_weight='balanced').fit(X_train_clean_scaled, y_train)\n",
    "    y_train_prob_pred = clf.predict_proba(X_train_clean_scaled)\n",
    "    y_test_prob_pred = clf.predict_proba(X_test_clean_scaled)\n",
    "    return y_train_prob_pred, y_test_prob_pred"
   ]
  },
  {
   "cell_type": "markdown",
   "metadata": {},
   "source": [
    "**score** is the function that we use to compare the results. An example is provided with scoring the predictions for the training dataset. True labels for the testing data set will be supplied to score the predictions for testing dataset."
   ]
  },
  {
   "cell_type": "markdown",
   "metadata": {},
   "source": [
    "Score is based on cohen's kappa measurement. https://en.wikipedia.org/wiki/Cohen%27s_kappa"
   ]
  },
  {
   "cell_type": "code",
   "execution_count": 6,
   "metadata": {},
   "outputs": [],
   "source": [
    "from sklearn.metrics import cohen_kappa_score\n",
    "\n",
    "def score(y_pred, y_true):\n",
    "    \"\"\"\n",
    "    y_pred: a numpy 4d array of probabilities of point assigned to each label\n",
    "    y_true: a numpy array of true labels\n",
    "    \"\"\"\n",
    "    y_pred_label = np.argmax(y_pred, axis=1)\n",
    "    return cohen_kappa_score(y_pred_label, y_true)"
   ]
  },
  {
   "cell_type": "markdown",
   "metadata": {},
   "source": [
    "**wrapper** is the main function to read in unzipped data and output a score for evaluation. In addition, the function returns the y probability matrix (both train and test) for grading. More details about submitting format are outlined below."
   ]
  },
  {
   "cell_type": "code",
   "execution_count": 7,
   "metadata": {},
   "outputs": [],
   "source": [
    "def wrapper():\n",
    "    # read in data\n",
    "    X_train, X_test, y_train = read_data_small()\n",
    "    # or if you have the computational power to work with the big data set, \n",
    "    # you can comment out the read_data_samll line and uncomment the following read_data_big\n",
    "    # X_train, X_test, y_train = read_data_big()\n",
    "    \n",
    "    # process the data, train classifier and output probability matrix\n",
    "    y_train_prob_pred, y_test_prob_pred = detect_spoofying(X_train, X_test, y_train)\n",
    "    \n",
    "    # score the predictions\n",
    "    score_train = score(y_train_prob_pred, y_train)\n",
    "    # score_test = score(y_test_prob_pred, y_test)\n",
    "    \n",
    "    # return the scores\n",
    "    return score_train, y_train_prob_pred, y_test_prob_pred"
   ]
  },
  {
   "cell_type": "markdown",
   "metadata": {},
   "source": [
    "Call function wrapper:"
   ]
  },
  {
   "cell_type": "code",
   "execution_count": 8,
   "metadata": {},
   "outputs": [
    {
     "name": "stderr",
     "output_type": "stream",
     "text": [
      "/anaconda3/lib/python3.6/site-packages/ipykernel_launcher.py:36: DataConversionWarning: Data with input dtype uint8, int64, float64, object were all converted to float64 by the scale function.\n",
      "/anaconda3/lib/python3.6/site-packages/ipykernel_launcher.py:37: DataConversionWarning: Data with input dtype uint8, int64, float64, object were all converted to float64 by the scale function.\n",
      "/anaconda3/lib/python3.6/site-packages/sklearn/linear_model/logistic.py:433: FutureWarning: Default solver will be changed to 'lbfgs' in 0.22. Specify a solver to silence this warning.\n",
      "  FutureWarning)\n",
      "/anaconda3/lib/python3.6/site-packages/sklearn/linear_model/logistic.py:460: FutureWarning: Default multi_class will be changed to 'auto' in 0.22. Specify the multi_class option to silence this warning.\n",
      "  \"this warning.\", FutureWarning)\n"
     ]
    }
   ],
   "source": [
    "score_train, y_train_prob_pred, y_test_prob_pred = wrapper()"
   ]
  },
  {
   "cell_type": "markdown",
   "metadata": {},
   "source": [
    "Score for training data set is:"
   ]
  },
  {
   "cell_type": "code",
   "execution_count": 9,
   "metadata": {},
   "outputs": [
    {
     "data": {
      "text/plain": [
       "0.6958535351146433"
      ]
     },
     "execution_count": 9,
     "metadata": {},
     "output_type": "execute_result"
    }
   ],
   "source": [
    "score_train"
   ]
  },
  {
   "cell_type": "markdown",
   "metadata": {},
   "source": [
    "### Submission Format\n",
    "\n",
    "The classifier function wrote should return a 4d nparray with 4 columns. The columns are corresponding to the class labels: 0, 1, 2, 3. Please see examples below."
   ]
  },
  {
   "cell_type": "code",
   "execution_count": 10,
   "metadata": {},
   "outputs": [
    {
     "data": {
      "text/plain": [
       "array([[9.86452550e-001, 1.35474497e-002, 1.94722749e-118,\n",
       "        9.12250926e-307],\n",
       "       [9.99968643e-001, 3.13566443e-005, 2.96214030e-122,\n",
       "        0.00000000e+000],\n",
       "       [9.99992854e-001, 7.14648023e-006, 3.14506128e-122,\n",
       "        0.00000000e+000],\n",
       "       ...,\n",
       "       [9.94702613e-001, 8.00320444e-006, 1.00484485e-003,\n",
       "        4.28453887e-003],\n",
       "       [9.99998561e-001, 1.11829215e-008, 1.73867278e-007,\n",
       "        1.25416072e-006],\n",
       "       [9.99999503e-001, 2.91510729e-008, 8.13796837e-008,\n",
       "        3.86561393e-007]])"
      ]
     },
     "execution_count": 10,
     "metadata": {},
     "output_type": "execute_result"
    }
   ],
   "source": [
    "y_train_prob_pred"
   ]
  },
  {
   "cell_type": "code",
   "execution_count": 11,
   "metadata": {},
   "outputs": [
    {
     "data": {
      "text/plain": [
       "array([[9.99999930e-01, 7.15749322e-09, 5.88697014e-09, 5.68364629e-08],\n",
       "       [9.99999829e-01, 8.01701062e-09, 2.65836581e-08, 1.36410352e-07],\n",
       "       [9.99999645e-01, 2.96205392e-07, 5.34109065e-08, 5.63593627e-09],\n",
       "       ...,\n",
       "       [9.99889576e-01, 2.84962125e-07, 2.19083895e-05, 8.82304369e-05],\n",
       "       [9.99936328e-01, 3.13940023e-08, 1.65127923e-05, 4.71282129e-05],\n",
       "       [9.99972531e-01, 1.38112455e-07, 1.09861823e-05, 1.63448918e-05]])"
      ]
     },
     "execution_count": 11,
     "metadata": {},
     "output_type": "execute_result"
    }
   ],
   "source": [
    "y_test_prob_pred"
   ]
  },
  {
   "cell_type": "markdown",
   "metadata": {},
   "source": [
    "### Write test results to csv files"
   ]
  },
  {
   "cell_type": "markdown",
   "metadata": {},
   "source": [
    "Please rename your file to indicate which data set you are working with. \n",
    "\n",
    "- If you are using the small dataset: *y_train_prob_pred_small.csv* and *y_test_prob_pred_small.csv*\n",
    "- If you are using the small dataset: *y_train_prob_pred_big.csv* and *y_test_prob_pred_big.csv*\n",
    "- If you are using the original dataset: *y_train_prob_pred.csv* and *y_test_prob_pred.csv*"
   ]
  },
  {
   "cell_type": "code",
   "execution_count": 12,
   "metadata": {},
   "outputs": [],
   "source": [
    "pd.DataFrame(y_train_prob_pred).to_csv(\"y_train_prob_pred.csv\")\n",
    "pd.DataFrame(y_test_prob_pred).to_csv(\"y_test_prob_pred.csv\")"
   ]
  }
 ],
 "metadata": {
  "kernelspec": {
   "display_name": "Python 3",
   "language": "python",
   "name": "python3"
  },
  "language_info": {
   "codemirror_mode": {
    "name": "ipython",
    "version": 3
   },
   "file_extension": ".py",
   "mimetype": "text/x-python",
   "name": "python",
   "nbconvert_exporter": "python",
   "pygments_lexer": "ipython3",
   "version": "3.6.8"
  }
 },
 "nbformat": 4,
 "nbformat_minor": 2
}
